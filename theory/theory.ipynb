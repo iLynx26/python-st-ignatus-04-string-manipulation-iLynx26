{
    "cells": [
        {
            "cell_type": "markdown",
            "metadata": {},
            "source": [
                "# 1. Working with Strings in Python 📘\n",
                "\n",
                "Welcome to this engaging module of our Python Programming Course! In this module, we'll explore the intricacies of working with strings, one of the most common and powerful data types in Python. Strings are essential for handling text in any programming task, from user input processing to data analysis and web development.\n",
                "\n",
                "## What's Covered in This Module 📋\n",
                "\n",
                "- **Introduction to Strings** 🎈:\n",
                "  - **What Are Strings?**: Understanding strings as sequences of characters.\n",
                "  - **Creating Strings**: Different ways to create and manipulate strings in Python.\n",
                "- **String Operations** ⚙️:\n",
                "  - **Concatenation**: Combining strings together.\n",
                "  - **Repetition**: Repeating strings a certain number of times.\n",
                "  - **Indexing and Slicing**: Accessing parts of strings.\n",
                "- **Common String Methods** 🛠️:\n",
                "  - **Case Conversion**: Methods like `.upper()`, `.lower()`, `.title()`, and `.capitalize()`.\n",
                "  - **Search and Replace**: Using `.find()`, `.replace()`, and regular expressions.\n",
                "  - **Stripping Whitespace**: Cleaning up strings with `.strip()`, `.rstrip()`, and `.lstrip()`.\n",
                "- **Formatting Strings** 🎨:\n",
                "  - **The `format()` Method**: Inserting variables into strings.\n",
                "  - **F-Strings**: Using formatted string literals for easier and more readable string formatting.\n",
                "- **Working with Multiline Strings** 📖:\n",
                "  - **Creating and Using Multiline Strings**: Handling longer texts.\n",
                "- **String Encoding** 🔍:\n",
                "  - **Understanding Unicode**: How Python represents characters from various languages.\n",
                "  - **Encoding and Decoding**: Converting strings to bytes and vice versa.\n",
                "- **Advanced String Techniques** 🌟:\n",
                "  - **String Functions**: Exploring built-in functions like `len()`, `min()`, and `max()`.\n",
                "  - **Iterating Over Strings**: Using loops to process each character.\n",
                "  - **String Immutability**: Understanding how strings cannot be changed after they are created.\n",
                "\n",
                "By the end of this module, you will have a comprehensive understanding of string manipulation in Python. You'll be equipped to handle textual data effectively, perform complex string operations, and apply string formatting techniques in your Python programs. Let's unravel the world of strings and make your programs more interactive and versatile! 🚀\n"
            ]
        },
        {
            "cell_type": "markdown",
            "metadata": {},
            "source": [
                "# 2. Introduction to Strings 🎈"
            ]
        },
        {
            "cell_type": "markdown",
            "metadata": {},
            "source": [
                "## What Are Strings? 🤔\n",
                "\n",
                "A string is a sequence of characters, and it is one of the most commonly used data types in Python. Strings are used to represent text data, such as names, addresses, messages, and more. In Python, strings are created by enclosing a sequence of characters within single quotes (`'`) or double quotes (`\"`). Here are a few examples of strings:\n",
                "\n",
                "```python\n",
                "# A string representing a name\n",
                "name = 'Alice'\n",
                "\n",
                "# A string representing a message\n",
                "message = \"Hello, World!\"\n",
                "\n",
                "# A string representing an address\n",
                "address = '123, Main Street'\n",
                "```\n",
                "\n",
                "Strings can contain letters, numbers, symbols, and whitespace characters. They can also be empty, i.e., containing no characters at all. In Python, strings are immutable, meaning that once a string is created, it cannot be changed. However, you can create new strings based on existing strings using various string manipulation techniques.\n"
            ]
        },
        {
            "cell_type": "markdown",
            "metadata": {},
            "source": [
                "## Creating Strings 🛠️\n",
                "\n",
                "In Python, strings can be created using single quotes (`'`), double quotes (`\"`), or triple quotes (`'''` or `\"\"\"`). The choice of quote style depends on the specific requirements of the string. Here are a few examples of creating strings using different quote styles:\n",
                "\n",
                "```python\n",
                "# Using single quotes\n",
                "name = 'Alice'\n",
                "\n",
                "# Using double quotes\n",
                "message = \"Hello, World!\"\n",
                "\n",
                "# Using triple quotes for multiline strings\n",
                "address = '''123, Main Street\n",
                "City: New York\n",
                "Country: USA'''\n",
                "```\n",
                "\n",
                "In the above examples:\n",
                "- The string `'Alice'` is created using single quotes.\n",
                "- The string `\"Hello, World!\"` is created using double quotes.\n",
                "- The string `'''123, Main Street\\nCity: New York\\nCountry: USA'''` is created using triple quotes, which allows creating multiline strings.\n",
                "\n",
                "In Python, strings created using single quotes and double quotes are equivalent. However, using triple quotes allows creating multiline strings, which can be useful for representing longer texts, such as addresses, messages, and documentation strings (docstrings).\n",
                "\n",
                "Now that we've understood the basics of strings and how to create them, let's move on to exploring various string operations in Python. We'll start with the most common string operations, such as concatenation, repetition, and indexing."
            ]
        },
        {
            "cell_type": "markdown",
            "metadata": {},
            "source": [
                "# 3. String Operations ⚙️"
            ]
        },
        {
            "cell_type": "markdown",
            "metadata": {},
            "source": [
                "## Concatenation 🧵\n",
                "\n",
                "Concatenation is the process of combining two or more strings to create a new string. In Python, you can use the `+` operator to concatenate strings. Here's an example of concatenating two strings:"
            ]
        },
        {
            "cell_type": "code",
            "execution_count": 1,
            "metadata": {},
            "outputs": [
                {
                    "name": "stdout",
                    "output_type": "stream",
                    "text": [
                        "John Doe\n"
                    ]
                }
            ],
            "source": [
                "# Concatenating two strings\n",
                "first_name = 'John'\n",
                "\n",
                "last_name = 'Doe'\n",
                "\n",
                "full_name = first_name + ' ' + last_name\n",
                "\n",
                "print(full_name)  # Output: John Doe"
            ]
        },
        {
            "cell_type": "markdown",
            "metadata": {},
            "source": [
                "In the above example, the strings `'John'` and `'Doe'` are concatenated using the `+` operator, along with a space character `' '` to separate the first name and last name. The resulting string `'John Doe'` is stored in the variable `full_name`."
            ]
        },
        {
            "cell_type": "markdown",
            "metadata": {},
            "source": [
                "You can also use the `+=` operator to concatenate strings and assign the result back to the original variable. Here's an example:"
            ]
        },
        {
            "cell_type": "code",
            "execution_count": 2,
            "metadata": {},
            "outputs": [
                {
                    "name": "stdout",
                    "output_type": "stream",
                    "text": [
                        "John Doe\n"
                    ]
                }
            ],
            "source": [
                "# Concatenating strings using the += operator\n",
                "\n",
                "first_name = 'John'\n",
                "\n",
                "last_name = 'Doe'\n",
                "\n",
                "full_name = first_name\n",
                "\n",
                "full_name += ' ' + last_name\n",
                "\n",
                "print(full_name)  # Output: John Doe"
            ]
        },
        {
            "cell_type": "markdown",
            "metadata": {},
            "source": [
                "In the above example, the `+=` operator is used to concatenate the strings `'John'` and `'Doe'` and assign the result back to the variable `full_name`. The resulting string `'John Doe'` is printed to the console."
            ]
        },
        {
            "cell_type": "markdown",
            "metadata": {},
            "source": [
                "### Concatenating Strings with Other Data Types\n",
                "\n",
                "You can also concatenate strings with other data types, such as numbers, using the `+` operator. When concatenating a string with a number, the number is first converted to a string and then concatenated with the other string. Here's an example:\n",
                "    \n",
                "```python\n",
                "# Concatenating a string with a number\n",
                "message = 'Hello, ' + str(42)\n",
                "print(message)\n",
                "```\n",
                "\n",
                "Output:\n",
                "```\n",
                "Hello, 42\n",
                "```\n",
                "\n",
                "\n",
                "In the above example, the string `'Hello, '` is concatenated with the number `42` using the `+` operator. The number `42` is first converted to a string and then concatenated with the string `'Hello, '`. The resulting string `'Hello, 42'` is printed to the console."
            ]
        },
        {
            "cell_type": "markdown",
            "metadata": {},
            "source": [
                "## Repetition 🔁\n",
                "\n",
                "Repetition is the process of creating a new string by repeating an existing string a certain number of times. In Python, you can use the `*` operator to repeat a string. Here's an example of repeating a string:\n",
                "\n",
                "```python\n",
                "# Repeating a string\n",
                "pattern = '-' * 10\n",
                "print(pattern)\n",
                "```\n",
                "\n",
                "Output:\n",
                "```\n",
                "----------\n",
                "```"
            ]
        },
        {
            "cell_type": "code",
            "execution_count": 4,
            "metadata": {},
            "outputs": [
                {
                    "name": "stdout",
                    "output_type": "stream",
                    "text": [
                        "123123123\n"
                    ]
                }
            ],
            "source": [
                "# Repetition of strings\n",
                "# Using the * operator, you can repeat a string a specified number of times.\n",
                "pattern = '123'\n",
                "print(pattern * 3)  # Output: 123123123"
            ]
        },
        {
            "cell_type": "markdown",
            "metadata": {},
            "source": [
                "In the code above, the string '123' is repeated 3 times using the `*` operator, and the resulting string '123123123' is printed to the console."
            ]
        },
        {
            "cell_type": "markdown",
            "metadata": {},
            "source": [
                "## Indexing and Slicing 🍰\n",
                "\n",
                "Indexing and slicing are used to access parts of a string. In Python, strings are zero-indexed, meaning that the first character of the string has an index of 0, the second character has an index of 1, and so on. \n",
                "\n",
                "To access a specific character in a string, we use square brackets `[]` with the index number inside them. For example, `string[0]` would return the first character of the string.\n",
                "\n",
                "Slicing allows us to extract a substring from a string by specifying a range of indices. The syntax for slicing is `string[start:end]`, where `start` is the index of the first character to include and `end` is the index of the first character to exclude. For example, `string[1:4]` would return a substring consisting of the characters at indices 1, 2, and 3.\n",
                "\n",
                "We can also use negative indices to access characters from the end of the string. The last character has an index of -1, the second-to-last character has an index of -2, and so on. For example, `string[-1]` would return the last character of the string.\n",
                "\n",
                "\n",
                "Here's an example of indexing and slicing a string:"
            ]
        },
        {
            "cell_type": "code",
            "execution_count": 5,
            "metadata": {},
            "outputs": [
                {
                    "name": "stdout",
                    "output_type": "stream",
                    "text": [
                        "H\n",
                        "!\n",
                        "World\n"
                    ]
                }
            ],
            "source": [
                "# Indexing and slicing a string\n",
                "message = 'Hello, World!'\n",
                "print(message[0])    # Accessing the first character\n",
                "print(message[-1])   # Accessing the last character\n",
                "print(message[7:12]) # Slicing the string to get 'World'\n"
            ]
        },
        {
            "cell_type": "markdown",
            "metadata": {},
            "source": [
                "In the code above:\n",
                "- The expression `message[0]` returns the first character of the string `'Hello, World!'`, which is `'H'`.\n",
                "- The expression `message[-1]` returns the last character of the string `'Hello, World!'`, which is `'!'`.\n",
                "- The expression `message[7:12]` returns a substring of the string `'Hello, World!'` from index 7 to index 11 (excluding index 12), which is `'World'`."
            ]
        },
        {
            "cell_type": "markdown",
            "metadata": {},
            "source": [
                "You can also use slicing to access a substring of a string using a step value. Here's an example:\n",
                "\n",
                "```python\n"
            ]
        },
        {
            "cell_type": "code",
            "execution_count": 8,
            "metadata": {},
            "outputs": [
                {
                    "name": "stdout",
                    "output_type": "stream",
                    "text": [
                        "Hlo ol\n"
                    ]
                }
            ],
            "source": [
                "# Slicing a string with a step value\n",
                "message = 'Hello, World!'\n",
                "print(message[0:12:2]) # Slicing the string with a step of 2"
            ]
        },
        {
            "cell_type": "markdown",
            "metadata": {},
            "source": [
                "In the code above, the expression `message[0:12:2]` returns a substring of the string `'Hello, World!'` from index 0 to index 11 (excluding index 12) with a step value of 2, which is `'Hlo ol!'`."
            ]
        },
        {
            "cell_type": "markdown",
            "metadata": {},
            "source": [
                "In Python, you can reverse a string using slicing. Here's a step-by-step explanation:\n",
                "\n",
                "1. Define the string that you want to reverse.\n",
                "```python\n",
                "s = \"Hello, World!\"\n",
                "```\n",
                "\n",
                "2. Use slicing with a step value of -1 to reverse the string.\n",
                "```python\n",
                "reversed_s = s[::-1]\n",
                "```\n",
                "\n",
                "3. Print the reversed string.\n",
                "```python\n",
                "print(reversed_s)\n",
                "```\n",
                "\n",
                "Output:\n",
                "```\n",
                "!dlroW ,olleH\n",
                "```\n",
                "\n",
                "In the code above, the expression `[::-1]` works by interpreting the slice parameters as follows:\n",
                "- The first `:` indicates the start of the string.\n",
                "- The second `:` indicates the end of the string.\n",
                "- The `-1` indicates the step value, which causes the string to be traversed in reverse order.\n",
                "\n",
                "\n",
                "\n"
            ]
        },
        {
            "cell_type": "markdown",
            "metadata": {},
            "source": [
                "# 4. Common String Methods 🛠️"
            ]
        },
        {
            "cell_type": "markdown",
            "metadata": {},
            "source": [
                "## Case Conversion\n",
                "\n",
                "Python provides several methods to convert the case of a string. Here are some common case conversion methods:\n",
                "\n",
                "- **`upper()`**: Converts all characters in the string to uppercase.\n",
                "- **`lower()`**: Converts all characters in the string to lowercase.\n",
                "- **`title()`**: Converts the first character of each word to uppercase and the rest to lowercase.\n",
                "- **`capitalize()`**: Converts the first character of the string to uppercase and the rest to lowercase.\n",
                "\n",
                "Here's an example of using these case conversion methods:"
            ]
        },
        {
            "cell_type": "code",
            "execution_count": 9,
            "metadata": {},
            "outputs": [
                {
                    "name": "stdout",
                    "output_type": "stream",
                    "text": [
                        "ALICE\n",
                        "alice\n",
                        "Alice\n",
                        "Alice\n"
                    ]
                }
            ],
            "source": [
                "# Case conversion\n",
                "name = 'alice'\n",
                "print(name.upper())       # Output: 'ALICE'\n",
                "print(name.lower())       # Output: 'alice'\n",
                "print(name.title())       # Output: 'Alice'\n",
                "print(name.capitalize())  # Output: 'Alice'"
            ]
        },
        {
            "cell_type": "markdown",
            "metadata": {},
            "source": [
                "In the code above, the string `'alice'` is converted to uppercase, lowercase, title case, and capitalized using the `upper()`, `lower()`, `title()`, and `capitalize()` methods, respectively."
            ]
        },
        {
            "cell_type": "markdown",
            "metadata": {},
            "source": [
                "## Search and Replace\n",
                "\n",
                "Python provides methods to search for a substring within a string and replace it with another substring. Here are some common search and replace methods:\n",
                "\n",
                "- **`find(substring)`**: Searches for the first occurrence of `substring` in the string and returns the index of the first character of the first occurrence. If `substring` is not found, it returns -1.\n",
                "- **`replace(old, new)`**: Replaces all occurrences of `old` in the string with `new`."
            ]
        },
        {
            "cell_type": "markdown",
            "metadata": {},
            "source": [
                "Here's an example of using the `find()` and `replace()` methods:"
            ]
        },
        {
            "cell_type": "code",
            "execution_count": 10,
            "metadata": {},
            "outputs": [
                {
                    "name": "stdout",
                    "output_type": "stream",
                    "text": [
                        "7\n"
                    ]
                }
            ],
            "source": [
                "# Searching for a substring\n",
                "s = 'Hello, World!'\n",
                "\n",
                "substring = s.find('World')\n",
                "\n",
                "print(substring)  # Output: 7"
            ]
        },
        {
            "cell_type": "markdown",
            "metadata": {},
            "source": [
                "In the code above, the `find()` method is used to search for the substring `'World'` in the string `'Hello, World!'`. The `find()` method returns the index of the first character of the first occurrence of the substring. In this case, the `find()` method returns `7`, indicating that the substring `'World'` starts at index `7` in the string `'Hello, World!'`."
            ]
        },
        {
            "cell_type": "code",
            "execution_count": 11,
            "metadata": {},
            "outputs": [
                {
                    "name": "stdout",
                    "output_type": "stream",
                    "text": [
                        "I love programming in Python\n"
                    ]
                }
            ],
            "source": [
                "# Replacing a substring\n",
                "s = 'I like programming in Python'\n",
                "\n",
                "new_s = s.replace('like', 'love')\n",
                "\n",
                "print(new_s)  # Output: I love programming in Python"
            ]
        },
        {
            "cell_type": "markdown",
            "metadata": {},
            "source": [
                "\n",
                "The `replace()` method is used to replace all occurrences of the substring `'like'` with the substring `'love'` in the string `'I like programming in Python'`. The `replace()` method returns a new string with the replacements made. In this case, the `replace()` method returns the string `'I love programming in Python'`, where all occurrences of `'like'` have been replaced with `'love'`."
            ]
        },
        {
            "cell_type": "markdown",
            "metadata": {},
            "source": [
                "These methods are useful for manipulating strings and performing tasks such as searching for specific substrings and replacing them with desired values. By understanding and utilizing these methods, you can effectively work with strings in Python and achieve the desired results in your code."
            ]
        },
        {
            "cell_type": "markdown",
            "metadata": {},
            "source": [
                "## Stripping Whitespace\n",
                "\n",
                "Python provides methods to remove leading and trailing whitespace characters from a string. Here are some common methods for stripping whitespace:\n",
                "\n",
                "- **`strip()`**: Removes leading and trailing whitespace characters from the string.\n",
                "- **`rstrip()`**: Removes trailing whitespace characters from the string.\n",
                "- **`lstrip()`**: Removes leading whitespace characters from the string.\n",
                "\n",
                "Here's an example of using these whitespace stripping methods:"
            ]
        },
        {
            "cell_type": "code",
            "execution_count": 12,
            "metadata": {},
            "outputs": [],
            "source": [
                "# Striping whitespace characters\n",
                "\n",
                "s = '   Hello, World!   '"
            ]
        },
        {
            "cell_type": "code",
            "execution_count": 14,
            "metadata": {},
            "outputs": [
                {
                    "name": "stdout",
                    "output_type": "stream",
                    "text": [
                        "Hello, World!\n"
                    ]
                }
            ],
            "source": [
                "print(s.strip())  # Output: 'Hello, World!'"
            ]
        },
        {
            "cell_type": "code",
            "execution_count": 15,
            "metadata": {},
            "outputs": [
                {
                    "name": "stdout",
                    "output_type": "stream",
                    "text": [
                        "Hello, World!   \n"
                    ]
                }
            ],
            "source": [
                "print(s.lstrip()) # Output: 'Hello, World!   '"
            ]
        },
        {
            "cell_type": "code",
            "execution_count": 16,
            "metadata": {},
            "outputs": [
                {
                    "name": "stdout",
                    "output_type": "stream",
                    "text": [
                        "   Hello, World!\n"
                    ]
                }
            ],
            "source": [
                "print(s.rstrip()) # Output: '   Hello, World!'"
            ]
        },
        {
            "cell_type": "markdown",
            "metadata": {},
            "source": [
                "# 5. Formatting Strings 🎨"
            ]
        },
        {
            "cell_type": "markdown",
            "metadata": {},
            "source": [
                "## The `format()` Method\n",
                "\n",
                "The `format()` method is used to insert variables into strings. It allows you to create dynamic strings by replacing placeholders with the values of variables. The `format()` method takes one or more arguments and replaces the placeholders in the string with the values of the arguments. Here's an example of using the `format()` method:"
            ]
        },
        {
            "cell_type": "code",
            "execution_count": 18,
            "metadata": {},
            "outputs": [
                {
                    "name": "stdout",
                    "output_type": "stream",
                    "text": [
                        "My name is John Doe. I am 30.\n"
                    ]
                }
            ],
            "source": [
                "# Using format() method\n",
                "first_name = 'John'\n",
                "last_name = 'Doe'\n",
                "age = 30\n",
                "\n",
                "print('My name is {} {}. I am {}.'.format(first_name, last_name, age))"
            ]
        },
        {
            "cell_type": "markdown",
            "metadata": {},
            "source": [
                "In the code above, the `format()` method is used to insert the values of the variables `first_name`, `last_name`, and `age` into the string `'My name is {} {}. I am {}.'`. The curly braces `{}` are used as placeholders for the variables, and the `format()` method replaces the placeholders with the values of the variables."
            ]
        },
        {
            "cell_type": "markdown",
            "metadata": {},
            "source": [
                "## F-Strings\n",
                "\n",
                "F-strings, also known as formatted string literals, provide a more concise and readable way to format strings in Python. F-strings allow you to embed expressions inside string literals by prefixing the string with the letter `f` or `F` and using curly braces `{}` to surround the expressions. Here's an example of using F-strings:"
            ]
        },
        {
            "cell_type": "code",
            "execution_count": 19,
            "metadata": {},
            "outputs": [
                {
                    "name": "stdout",
                    "output_type": "stream",
                    "text": [
                        "My name is John Doe. I am 30.\n"
                    ]
                }
            ],
            "source": [
                "# Using f-strings\n",
                "first_name = 'John'\n",
                "last_name = 'Doe'\n",
                "age = 30\n",
                "\n",
                "print(f'My name is {first_name} {last_name}. I am {age}.')"
            ]
        },
        {
            "cell_type": "markdown",
            "metadata": {},
            "source": [
                "# 6. Working with Multiline Strings 📖"
            ]
        },
        {
            "cell_type": "markdown",
            "metadata": {},
            "source": [
                "## Creating and Using Multiline Strings\n",
                "\n",
                "Multiline strings are strings that span multiple lines. In Python, you can create multiline strings using triple quotes (`'''` or `\"\"\"`). Multiline strings are useful for representing longer texts, such as addresses, messages, and documentation strings (docstrings). Here's an example of creating and using multiline strings:"
            ]
        },
        {
            "cell_type": "code",
            "execution_count": 20,
            "metadata": {},
            "outputs": [
                {
                    "name": "stdout",
                    "output_type": "stream",
                    "text": [
                        "I am a teacher and enjoy teaching.\n",
                        "I didn't find anything as rewarding as educating people.\n",
                        "\n"
                    ]
                }
            ],
            "source": [
                "# Create a multiline string\n",
                "multiline_string = '''I am a teacher and enjoy teaching.\n",
                "I didn't find anything as rewarding as educating people.\n",
                "'''\n",
                "\n",
                "print(multiline_string)"
            ]
        },
        {
            "cell_type": "code",
            "execution_count": 21,
            "metadata": {},
            "outputs": [
                {
                    "name": "stdout",
                    "output_type": "stream",
                    "text": [
                        "I am a teacher and enjoy teaching.\n",
                        "I didn't find anything as rewarding as educating people.\n",
                        "\n"
                    ]
                }
            ],
            "source": [
                "# Another way of creating multiline string\n",
                "multiline_string = \"\"\"I am a teacher and enjoy teaching.\n",
                "I didn't find anything as rewarding as educating people.\n",
                "\"\"\"\n",
                "\n",
                "print(multiline_string)"
            ]
        },
        {
            "cell_type": "markdown",
            "metadata": {},
            "source": [
                "Additionally, you can use the `strip()` method to remove leading and trailing whitespace characters from multiline strings. Here's an example:\n",
                "\n",
                "```python\n",
                "# Creating a multiline string\n",
                "address = '''\n",
                "123, Main Street\n",
                "City: New York\n",
                "Country: USA\n",
                "'''\n",
                "\n",
                "# Stripping leading and trailing whitespace\n",
                "address_stripped = address.strip()\n",
                "\n",
                "print(address_stripped)\n",
                "```\n",
                "\n",
                "Output:\n",
                "```\n",
                "123, Main Street\n",
                "City: New York\n",
                "Country: USA\n",
                "```\n",
                "\n",
                "In the code above, the `strip()` method is used to remove leading and trailing whitespace characters from the multiline string `address`. The resulting string `address_stripped` is printed to the console, showing the multiline string without leading and trailing whitespace.\n",
                "\n",
                "Multiline strings are a powerful feature of Python that allow you to represent longer texts in a clear and readable manner. By understanding how to create and use multiline strings, you can effectively handle textual data and improve the readability of your code."
            ]
        },
        {
            "cell_type": "markdown",
            "metadata": {},
            "source": [
                "# 7. String Encoding 🔍"
            ]
        },
        {
            "cell_type": "markdown",
            "metadata": {},
            "source": [
                "## Understanding Unicode\n",
                "\n",
                "Unicode is a standard for representing characters from various writing systems, including Latin, Greek, Cyrillic, Arabic, Hebrew, and many others. In Python, strings are represented using Unicode, which allows you to work with text in different languages and character sets.\n",
                "\n",
                "Unicode provides a unique code point for every character, regardless of the platform, program, or language. Each character is represented by a unique number called a code point. For example, the code point for the letter 'A' is `U+0041`, and the code point for the Greek letter 'Ω' is `U+03A9`.\n",
                "\n",
                "Python uses the UTF-8 encoding to represent Unicode characters. UTF-8 is a variable-width character encoding that can represent every character in the Unicode character set. It uses 8-bit code units, which allows it to represent the vast majority of characters using a single byte."
            ]
        },
        {
            "cell_type": "markdown",
            "metadata": {},
            "source": [
                "## Encoding and Decoding\n",
                "\n",
                "Encoding is the process of converting a string to a sequence of bytes, and decoding is the process of converting a sequence of bytes to a string. In Python, you can encode a string to bytes using the `encode()` method, and decode bytes to a string using the `decode()` method. Here's an example of encoding and decoding a string:\n",
                "\n",
                "In the code above, the `encode()` method is used to encode the string `'Hello, World!'` to bytes using the UTF-8 encoding. The resulting bytes object is printed to the console. The `decode()` method is then used to decode the bytes back to a string, and the resulting string `'Hello, World!'` is printed to the console.\n",
                "\n",
                "Encoding and decoding are essential for working with textual data in Python, especially when dealing with different character sets and languages. By understanding how to encode and decode strings, you can ensure that your programs handle text data correctly and are compatible with different platforms and systems."
            ]
        },
        {
            "cell_type": "markdown",
            "metadata": {},
            "source": [
                "## chr() and ord() functions\n",
                "\n",
                "Python provides two built-in functions for working with Unicode characters:\n",
                "\n",
                "- **`chr(code_point)`**: Returns the character represented by the Unicode code point `code_point`.\n",
                "- **`ord(character)`**: Returns the Unicode code point of the character `character`.\n",
                "\n",
                "Here's an example of using the `chr()` and `ord()` functions:\n",
                "```python"
            ]
        },
        {
            "cell_type": "code",
            "execution_count": 23,
            "metadata": {},
            "outputs": [
                {
                    "name": "stdout",
                    "output_type": "stream",
                    "text": [
                        "A\n",
                        "Z\n",
                        "a\n"
                    ]
                }
            ],
            "source": [
                "# Using the chr() function\n",
                "print(chr(65))  # Output: A\n",
                "print(chr(90))  # Output: Z\n",
                "print(chr(97))  # Output: a"
            ]
        },
        {
            "cell_type": "code",
            "execution_count": 24,
            "metadata": {},
            "outputs": [
                {
                    "name": "stdout",
                    "output_type": "stream",
                    "text": [
                        "65\n",
                        "90\n",
                        "97\n"
                    ]
                }
            ],
            "source": [
                "# Using the ord() function\n",
                "print(ord('A'))  # Output: 65\n",
                "print(ord('Z'))  # Output: 90\n",
                "print(ord('a'))  # Output: 97"
            ]
        },
        {
            "cell_type": "markdown",
            "metadata": {},
            "source": [
                "In the code above, the `chr()` function is used to return the character represented by the Unicode code point `65`, which is the character `'A'`. The `ord()` function is then used to return the Unicode code point of the character `'A'`, which is `65`.\n",
                "\n",
                "These functions are useful for working with Unicode characters and code points in Python. By understanding how to use the `chr()` and `ord()` functions, you can effectively handle Unicode characters and ensure that your programs work correctly with text data from different languages and character sets.\n",
                "\n"
            ]
        },
        {
            "cell_type": "markdown",
            "metadata": {},
            "source": [
                "# 8. Advanced String Techniques 🌟"
            ]
        },
        {
            "cell_type": "markdown",
            "metadata": {},
            "source": [
                "## String Functions\n",
                "\n",
                "Python provides several built-in functions for working with strings. Here are some common string functions:\n",
                "\n",
                "- **`len(string)`**: Returns the length of the string.\n",
                "- **`min(string)`**: Returns the smallest character in the string.\n",
                "- **`max(string)`**: Returns the largest character in the string.\n",
                "\n",
                "Here's an example of using these string functions:"
            ]
        },
        {
            "cell_type": "code",
            "execution_count": 26,
            "metadata": {},
            "outputs": [
                {
                    "name": "stdout",
                    "output_type": "stream",
                    "text": [
                        "13\n",
                        "2\n",
                        "0\n"
                    ]
                }
            ],
            "source": [
                "# len() function\n",
                "print(len('Hello, World!'))  # Output: 13\n",
                "print(len('42'))  # Output: 2\n",
                "print(len(''))  # Output: 0"
            ]
        },
        {
            "cell_type": "markdown",
            "metadata": {},
            "source": [
                "In the code above, the `len()` function is used to return the length of the strings `'Hello, World!'`, `'42'`, and `''` (empty string). The lengths of the strings are `13`, `2`, and `0`, respectively."
            ]
        },
        {
            "cell_type": "code",
            "execution_count": 28,
            "metadata": {},
            "outputs": [
                {
                    "name": "stdout",
                    "output_type": "stream",
                    "text": [
                        "2\n",
                        " \n",
                        "a\n",
                        "a\n"
                    ]
                }
            ],
            "source": [
                "# min() function\n",
                "print(min('42'))  # Output: '2'\n",
                "print(min('Hello, World!'))  # Output: ' '\n",
                "print(min('a'))  # Output: 'a'\n",
                "print(min('abcz'))  # Output: 'a'"
            ]
        },
        {
            "cell_type": "markdown",
            "metadata": {},
            "source": [
                "In the code above, the `min()` function is used to return the smallest character in the strings `'42'`, `'Hello, World!'`, `'a'`, and `'abcz'`. The smallest characters are `'2'`, `' '`, `'a'`, and `'a'`, respectively."
            ]
        },
        {
            "cell_type": "code",
            "execution_count": 29,
            "metadata": {},
            "outputs": [
                {
                    "name": "stdout",
                    "output_type": "stream",
                    "text": [
                        "4\n",
                        "r\n",
                        "a\n",
                        "z\n"
                    ]
                }
            ],
            "source": [
                "# max() function\n",
                "print(max('42'))  # Output: '4'\n",
                "print(max('Hello, World!'))  # Output: 'r'\n",
                "print(max('a'))  # Output: 'a'\n",
                "print(max('abcz'))  # Output: 'z'"
            ]
        },
        {
            "cell_type": "markdown",
            "metadata": {},
            "source": [
                "In the code above, the `max()` function is used to return the largest character in the strings `'42'`, `'Hello, World!'`, `'a'`, and `'abcz'`. The largest characters are `'4'`, `'r'`, `'a'`, and `'z'`, respectively."
            ]
        },
        {
            "cell_type": "markdown",
            "metadata": {},
            "source": [
                "## Iterating Over Strings\n",
                "\n",
                "You can use a loop to iterate over the characters of a string. This allows you to process each character of the string individually. Here's an example of iterating over a string:"
            ]
        },
        {
            "cell_type": "code",
            "execution_count": 30,
            "metadata": {},
            "outputs": [
                {
                    "name": "stdout",
                    "output_type": "stream",
                    "text": [
                        "Letter: P\n",
                        "Letter: y\n",
                        "Letter: t\n",
                        "Letter: h\n",
                        "Letter: o\n",
                        "Letter: n\n"
                    ]
                }
            ],
            "source": [
                "# Using for and the in operator\n",
                "text = 'Python'\n",
                "\n",
                "for char in text:\n",
                "    print(f'Letter: {char}')"
            ]
        },
        {
            "cell_type": "markdown",
            "metadata": {},
            "source": [
                "```python\n",
                "# Using for and the in operator\n",
                "text = 'Python'\n",
                "\n",
                "for char in text:\n",
                "    print(f'Letter: {char}')\n",
                "```\n",
                "\n",
                "Here's a step-by-step explanation of how this code works:\n",
                "\n",
                "1. The string `'Python'` is assigned to the variable `text`.\n",
                "\n",
                "2. The `for` loop is initialized with the variable `char`, which will iterate over each character of the string `text`.\n",
                "\n",
                "3. In each iteration, the `print()` function is used to print the message `'Letter: '` followed by the value of the variable `char`, which represents the current character of the string."
            ]
        },
        {
            "cell_type": "code",
            "execution_count": 31,
            "metadata": {},
            "outputs": [
                {
                    "name": "stdout",
                    "output_type": "stream",
                    "text": [
                        "Letter: P\n",
                        "Letter: y\n",
                        "Letter: t\n",
                        "Letter: h\n",
                        "Letter: o\n",
                        "Letter: n\n"
                    ]
                }
            ],
            "source": [
                "# Using for and indexing\n",
                "text = 'Python'\n",
                "\n",
                "for i in range(len(text)):\n",
                "    print(f'Letter: {text[i]}')\n",
                "    "
            ]
        },
        {
            "cell_type": "markdown",
            "metadata": {},
            "source": [
                "Here's a step-by-step explanation of how this code works:\n",
                "\n",
                "1. The string `'Python'` is assigned to the variable `text`.\n",
                "\n",
                "2. The `for` loop is initialized with the variable `i`, the `range()` function is used to generate a sequence of numbers from `0` to `len(text) - 1`, and the `len()` function is used to return the length of the string `text`.\n",
                "\n",
                "3. In each iteration, the `print()` function is used to print the message `'Letter: '` followed by the value of the expression `text[i]`, which represents the character of the string at index `i`.\n",
                "\n",
                "4. The loop continues until all characters of the string have been processed."
            ]
        },
        {
            "cell_type": "markdown",
            "metadata": {},
            "source": [
                "## String Immutability\n",
                "\n",
                "In Python, strings are immutable, meaning that once a string is created, it cannot be changed. This means that you cannot modify the characters of a string after it has been created. However, you can create new strings based on existing strings using various string manipulation techniques.\n",
                "\n",
                "Here's an example of trying to modify a string:\n",
                "\n",
                "```python\n",
                "# Attempting to modify a string\n",
                "text = 'Python'\n",
                "text[0] = 'J'\n",
                "```\n",
                "\n",
                "Output:\n",
                "```\n",
                "TypeError: 'str' object does not support item assignment\n",
                "```\n",
                "\n",
                "In the code above, the attempt to modify the first character of the string `'Python'` to `'J'` results in a `TypeError`. This is because strings are immutable, and you cannot change the characters of a string after it has been created."
            ]
        },
        {
            "cell_type": "code",
            "execution_count": 32,
            "metadata": {},
            "outputs": [
                {
                    "ename": "TypeError",
                    "evalue": "'str' object does not support item assignment",
                    "output_type": "error",
                    "traceback": [
                        "\u001b[0;31m---------------------------------------------------------------------------\u001b[0m",
                        "\u001b[0;31mTypeError\u001b[0m                                 Traceback (most recent call last)",
                        "Cell \u001b[0;32mIn[32], line 2\u001b[0m\n\u001b[1;32m      1\u001b[0m line \u001b[38;5;241m=\u001b[39m \u001b[38;5;124m'\u001b[39m\u001b[38;5;124mI am a teacher and I love teaching.\u001b[39m\u001b[38;5;124m'\u001b[39m\n\u001b[0;32m----> 2\u001b[0m \u001b[43mline\u001b[49m\u001b[43m[\u001b[49m\u001b[38;5;241;43m10\u001b[39;49m\u001b[43m]\u001b[49m \u001b[38;5;241m=\u001b[39m \u001b[38;5;124m'\u001b[39m\u001b[38;5;124mr\u001b[39m\u001b[38;5;124m'\u001b[39m  \u001b[38;5;66;03m# Error: TypeError\u001b[39;00m\n",
                        "\u001b[0;31mTypeError\u001b[0m: 'str' object does not support item assignment"
                    ]
                }
            ],
            "source": [
                "line = 'I am a teacher and I love teaching.'\n",
                "line[10] = 'r'  # Error: TypeError"
            ]
        },
        {
            "cell_type": "markdown",
            "metadata": {},
            "source": [
                "Understanding the immutability of strings is important for working with strings in Python. By knowing that strings cannot be changed after they are created, you can effectively handle strings and create new strings based on existing strings using various string manipulation techniques."
            ]
        },
        {
            "cell_type": "markdown",
            "metadata": {},
            "source": [
                "# Conclusion 🌟\n",
                "\n",
                "This module has provided an introduction to working with strings in Python. We've explored the basics of strings, including creating strings, performing string operations, using common string methods, and formatting strings. We've also covered advanced string techniques, such as working with multiline strings, string encoding, and understanding string immutability.\n",
                "\n",
                "In the next module, we'll explore the concept of lists in Python, which are used to store collections of items. We'll learn how to create lists, access and modify list items, and perform common list operations. We'll also cover advanced list techniques, such as list comprehensions and working with multidimensional lists.\n",
                "\n",
                "I hope you enjoyed this module and found it helpful. If you have any questions or feedback, please feel free to reach out. Happy learning! 🌟"
            ]
        },
        {
            "cell_type": "markdown",
            "metadata": {},
            "source": [
                "\n",
                "# References 📚\n",
                "\n",
                "To learn more about strings in Python, you can refer to the following resources:\n",
                "\n",
                "- [Python Documentation: Strings](https://docs.python.org/3/library/stdtypes.html#text-sequence-type-str)\n",
                "- Real Python: Python Strings[https://realpython.com/python-strings/]\n",
                "- W3Schools: Python Strings[https://www.w3schools.com/python/python_strings.asp]\n",
                "- Programiz: Python Strings[https://www.programiz.com/python-programming/string]\n",
                "- GeeksforGeeks: Python Strings[https://www.geeksforgeeks.org/python-strings/]\n",
                "- Unicode in Python[https://realpython.com/python-encodings-guide/]\n",
                "- Python String Immutability[https://www.geeksforgeeks.org/string-immutability-in-python/]\n",
                "- Python String Methods[https://www.w3schools.com/python/python_ref_string.asp]"
            ]
        }
    ],
    "metadata": {
        "kernelspec": {
            "display_name": "Python 3",
            "language": "python",
            "name": "python3"
        },
        "language_info": {
            "codemirror_mode": {
                "name": "ipython",
                "version": 3
            },
            "file_extension": ".py",
            "mimetype": "text/x-python",
            "name": "python",
            "nbconvert_exporter": "python",
            "pygments_lexer": "ipython3",
            "version": "3.11.5"
        }
    },
    "nbformat": 4,
    "nbformat_minor": 4
}
